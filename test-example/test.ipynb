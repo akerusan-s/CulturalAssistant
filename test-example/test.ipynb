{
  "nbformat": 4,
  "nbformat_minor": 0,
  "metadata": {
    "colab": {
      "provenance": []
    },
    "kernelspec": {
      "name": "python3",
      "display_name": "Python 3"
    },
    "language_info": {
      "name": "python"
    }
  },
  "cells": [
    {
      "cell_type": "markdown",
      "source": [
        "### CulturalAssistant Bot Test\n",
        "\n",
        "В этом блокноте приведён небольшой пример работы ассистента.\n",
        "\n",
        "Тест проходил в следующем формате:\n",
        "1. 5 разных товаров были случайно выбраны из базы данных.\n",
        "2. Далее gpt4-o сгенерировала потребности, которые эти товары закрывают, и отправила как начальный запрос к ассистенту. Таким образом имитировалось обращение пользователя к боту с некоторым запросом, но без найденного решения.\n",
        "3. После этого бот задавал необходимые вопросы, чтобы порекомендовать лучший товар, а gpt4-o на эти вопросы честно отвечала, имея информацию о товаре.\n",
        "4. В ходе теста бот должен был сам предложить товар по ответам на вопросы.\n",
        "\n",
        "Ниже представлены результаты: начальные запросы, диалоги и полученные товары.\n",
        "\n",
        "\n"
      ],
      "metadata": {
        "id": "xXxLnUP058NY"
      }
    },
    {
      "cell_type": "markdown",
      "source": [
        "### Выбор товаров."
      ],
      "metadata": {
        "id": "Su6dveEh9Bih"
      }
    },
    {
      "cell_type": "code",
      "source": [
        "import pandas as pd"
      ],
      "metadata": {
        "id": "Cp7WSSzpHhOh"
      },
      "execution_count": 1,
      "outputs": []
    },
    {
      "cell_type": "code",
      "source": [
        "df = pd.read_csv(\"goods_unique.csv\", sep='\\t', index_col=0)\n",
        "df_sample = df.sample(20, random_state=711)[['name', 'category']]\n",
        "df_sample.head(20)\n",
        "df_sample.to_csv('goods.csv', sep='\\t', index=False)"
      ],
      "metadata": {
        "id": "zA7-tckuHg6C"
      },
      "execution_count": 2,
      "outputs": []
    },
    {
      "cell_type": "code",
      "source": [
        "test_df = df_sample[['name']].copy().reset_index().rename({\"index\": \"index_in_source\"}, axis='columns')\n",
        "test_df = test_df.loc[[0, 1, 2, 3, 9]].reset_index().drop(columns=[\"index\"])\n",
        "test_df"
      ],
      "metadata": {
        "id": "flx3DM7CIQfM",
        "colab": {
          "base_uri": "https://localhost:8080/",
          "height": 247
        },
        "outputId": "9ef409f2-5833-45ba-ea7b-675b5866c511"
      },
      "execution_count": 9,
      "outputs": [
        {
          "output_type": "execute_result",
          "data": {
            "text/plain": [
              "   index_in_source                                               name\n",
              "0              506  Лента для декора и подарков, розовый, 2 см × 45 м\n",
              "1             8416  Набор кашпо деревянных 3 в 1 (30.5×18.5×35; 25...\n",
              "2             9650  Подвеска «Цветок» (набор 10 шт.), цвет жёлтый ...\n",
              "3            11007  Бусины для творчества пластик \"Смайлики на куб...\n",
              "4              255  Переводные татуировки детские «Герои», 2 листа..."
            ],
            "text/html": [
              "\n",
              "  <div id=\"df-24926b0a-d28b-475e-8ece-f655b2f6c586\" class=\"colab-df-container\">\n",
              "    <div>\n",
              "<style scoped>\n",
              "    .dataframe tbody tr th:only-of-type {\n",
              "        vertical-align: middle;\n",
              "    }\n",
              "\n",
              "    .dataframe tbody tr th {\n",
              "        vertical-align: top;\n",
              "    }\n",
              "\n",
              "    .dataframe thead th {\n",
              "        text-align: right;\n",
              "    }\n",
              "</style>\n",
              "<table border=\"1\" class=\"dataframe\">\n",
              "  <thead>\n",
              "    <tr style=\"text-align: right;\">\n",
              "      <th></th>\n",
              "      <th>index_in_source</th>\n",
              "      <th>name</th>\n",
              "    </tr>\n",
              "  </thead>\n",
              "  <tbody>\n",
              "    <tr>\n",
              "      <th>0</th>\n",
              "      <td>506</td>\n",
              "      <td>Лента для декора и подарков, розовый, 2 см × 45 м</td>\n",
              "    </tr>\n",
              "    <tr>\n",
              "      <th>1</th>\n",
              "      <td>8416</td>\n",
              "      <td>Набор кашпо деревянных 3 в 1 (30.5×18.5×35; 25...</td>\n",
              "    </tr>\n",
              "    <tr>\n",
              "      <th>2</th>\n",
              "      <td>9650</td>\n",
              "      <td>Подвеска «Цветок» (набор 10 шт.), цвет жёлтый ...</td>\n",
              "    </tr>\n",
              "    <tr>\n",
              "      <th>3</th>\n",
              "      <td>11007</td>\n",
              "      <td>Бусины для творчества пластик \"Смайлики на куб...</td>\n",
              "    </tr>\n",
              "    <tr>\n",
              "      <th>4</th>\n",
              "      <td>255</td>\n",
              "      <td>Переводные татуировки детские «Герои», 2 листа...</td>\n",
              "    </tr>\n",
              "  </tbody>\n",
              "</table>\n",
              "</div>\n",
              "    <div class=\"colab-df-buttons\">\n",
              "\n",
              "  <div class=\"colab-df-container\">\n",
              "    <button class=\"colab-df-convert\" onclick=\"convertToInteractive('df-24926b0a-d28b-475e-8ece-f655b2f6c586')\"\n",
              "            title=\"Convert this dataframe to an interactive table.\"\n",
              "            style=\"display:none;\">\n",
              "\n",
              "  <svg xmlns=\"http://www.w3.org/2000/svg\" height=\"24px\" viewBox=\"0 -960 960 960\">\n",
              "    <path d=\"M120-120v-720h720v720H120Zm60-500h600v-160H180v160Zm220 220h160v-160H400v160Zm0 220h160v-160H400v160ZM180-400h160v-160H180v160Zm440 0h160v-160H620v160ZM180-180h160v-160H180v160Zm440 0h160v-160H620v160Z\"/>\n",
              "  </svg>\n",
              "    </button>\n",
              "\n",
              "  <style>\n",
              "    .colab-df-container {\n",
              "      display:flex;\n",
              "      gap: 12px;\n",
              "    }\n",
              "\n",
              "    .colab-df-convert {\n",
              "      background-color: #E8F0FE;\n",
              "      border: none;\n",
              "      border-radius: 50%;\n",
              "      cursor: pointer;\n",
              "      display: none;\n",
              "      fill: #1967D2;\n",
              "      height: 32px;\n",
              "      padding: 0 0 0 0;\n",
              "      width: 32px;\n",
              "    }\n",
              "\n",
              "    .colab-df-convert:hover {\n",
              "      background-color: #E2EBFA;\n",
              "      box-shadow: 0px 1px 2px rgba(60, 64, 67, 0.3), 0px 1px 3px 1px rgba(60, 64, 67, 0.15);\n",
              "      fill: #174EA6;\n",
              "    }\n",
              "\n",
              "    .colab-df-buttons div {\n",
              "      margin-bottom: 4px;\n",
              "    }\n",
              "\n",
              "    [theme=dark] .colab-df-convert {\n",
              "      background-color: #3B4455;\n",
              "      fill: #D2E3FC;\n",
              "    }\n",
              "\n",
              "    [theme=dark] .colab-df-convert:hover {\n",
              "      background-color: #434B5C;\n",
              "      box-shadow: 0px 1px 3px 1px rgba(0, 0, 0, 0.15);\n",
              "      filter: drop-shadow(0px 1px 2px rgba(0, 0, 0, 0.3));\n",
              "      fill: #FFFFFF;\n",
              "    }\n",
              "  </style>\n",
              "\n",
              "    <script>\n",
              "      const buttonEl =\n",
              "        document.querySelector('#df-24926b0a-d28b-475e-8ece-f655b2f6c586 button.colab-df-convert');\n",
              "      buttonEl.style.display =\n",
              "        google.colab.kernel.accessAllowed ? 'block' : 'none';\n",
              "\n",
              "      async function convertToInteractive(key) {\n",
              "        const element = document.querySelector('#df-24926b0a-d28b-475e-8ece-f655b2f6c586');\n",
              "        const dataTable =\n",
              "          await google.colab.kernel.invokeFunction('convertToInteractive',\n",
              "                                                    [key], {});\n",
              "        if (!dataTable) return;\n",
              "\n",
              "        const docLinkHtml = 'Like what you see? Visit the ' +\n",
              "          '<a target=\"_blank\" href=https://colab.research.google.com/notebooks/data_table.ipynb>data table notebook</a>'\n",
              "          + ' to learn more about interactive tables.';\n",
              "        element.innerHTML = '';\n",
              "        dataTable['output_type'] = 'display_data';\n",
              "        await google.colab.output.renderOutput(dataTable, element);\n",
              "        const docLink = document.createElement('div');\n",
              "        docLink.innerHTML = docLinkHtml;\n",
              "        element.appendChild(docLink);\n",
              "      }\n",
              "    </script>\n",
              "  </div>\n",
              "\n",
              "\n",
              "    <div id=\"df-24f879f1-45cc-40a3-a2dc-219e0e768030\">\n",
              "      <button class=\"colab-df-quickchart\" onclick=\"quickchart('df-24f879f1-45cc-40a3-a2dc-219e0e768030')\"\n",
              "                title=\"Suggest charts\"\n",
              "                style=\"display:none;\">\n",
              "\n",
              "<svg xmlns=\"http://www.w3.org/2000/svg\" height=\"24px\"viewBox=\"0 0 24 24\"\n",
              "     width=\"24px\">\n",
              "    <g>\n",
              "        <path d=\"M19 3H5c-1.1 0-2 .9-2 2v14c0 1.1.9 2 2 2h14c1.1 0 2-.9 2-2V5c0-1.1-.9-2-2-2zM9 17H7v-7h2v7zm4 0h-2V7h2v10zm4 0h-2v-4h2v4z\"/>\n",
              "    </g>\n",
              "</svg>\n",
              "      </button>\n",
              "\n",
              "<style>\n",
              "  .colab-df-quickchart {\n",
              "      --bg-color: #E8F0FE;\n",
              "      --fill-color: #1967D2;\n",
              "      --hover-bg-color: #E2EBFA;\n",
              "      --hover-fill-color: #174EA6;\n",
              "      --disabled-fill-color: #AAA;\n",
              "      --disabled-bg-color: #DDD;\n",
              "  }\n",
              "\n",
              "  [theme=dark] .colab-df-quickchart {\n",
              "      --bg-color: #3B4455;\n",
              "      --fill-color: #D2E3FC;\n",
              "      --hover-bg-color: #434B5C;\n",
              "      --hover-fill-color: #FFFFFF;\n",
              "      --disabled-bg-color: #3B4455;\n",
              "      --disabled-fill-color: #666;\n",
              "  }\n",
              "\n",
              "  .colab-df-quickchart {\n",
              "    background-color: var(--bg-color);\n",
              "    border: none;\n",
              "    border-radius: 50%;\n",
              "    cursor: pointer;\n",
              "    display: none;\n",
              "    fill: var(--fill-color);\n",
              "    height: 32px;\n",
              "    padding: 0;\n",
              "    width: 32px;\n",
              "  }\n",
              "\n",
              "  .colab-df-quickchart:hover {\n",
              "    background-color: var(--hover-bg-color);\n",
              "    box-shadow: 0 1px 2px rgba(60, 64, 67, 0.3), 0 1px 3px 1px rgba(60, 64, 67, 0.15);\n",
              "    fill: var(--button-hover-fill-color);\n",
              "  }\n",
              "\n",
              "  .colab-df-quickchart-complete:disabled,\n",
              "  .colab-df-quickchart-complete:disabled:hover {\n",
              "    background-color: var(--disabled-bg-color);\n",
              "    fill: var(--disabled-fill-color);\n",
              "    box-shadow: none;\n",
              "  }\n",
              "\n",
              "  .colab-df-spinner {\n",
              "    border: 2px solid var(--fill-color);\n",
              "    border-color: transparent;\n",
              "    border-bottom-color: var(--fill-color);\n",
              "    animation:\n",
              "      spin 1s steps(1) infinite;\n",
              "  }\n",
              "\n",
              "  @keyframes spin {\n",
              "    0% {\n",
              "      border-color: transparent;\n",
              "      border-bottom-color: var(--fill-color);\n",
              "      border-left-color: var(--fill-color);\n",
              "    }\n",
              "    20% {\n",
              "      border-color: transparent;\n",
              "      border-left-color: var(--fill-color);\n",
              "      border-top-color: var(--fill-color);\n",
              "    }\n",
              "    30% {\n",
              "      border-color: transparent;\n",
              "      border-left-color: var(--fill-color);\n",
              "      border-top-color: var(--fill-color);\n",
              "      border-right-color: var(--fill-color);\n",
              "    }\n",
              "    40% {\n",
              "      border-color: transparent;\n",
              "      border-right-color: var(--fill-color);\n",
              "      border-top-color: var(--fill-color);\n",
              "    }\n",
              "    60% {\n",
              "      border-color: transparent;\n",
              "      border-right-color: var(--fill-color);\n",
              "    }\n",
              "    80% {\n",
              "      border-color: transparent;\n",
              "      border-right-color: var(--fill-color);\n",
              "      border-bottom-color: var(--fill-color);\n",
              "    }\n",
              "    90% {\n",
              "      border-color: transparent;\n",
              "      border-bottom-color: var(--fill-color);\n",
              "    }\n",
              "  }\n",
              "</style>\n",
              "\n",
              "      <script>\n",
              "        async function quickchart(key) {\n",
              "          const quickchartButtonEl =\n",
              "            document.querySelector('#' + key + ' button');\n",
              "          quickchartButtonEl.disabled = true;  // To prevent multiple clicks.\n",
              "          quickchartButtonEl.classList.add('colab-df-spinner');\n",
              "          try {\n",
              "            const charts = await google.colab.kernel.invokeFunction(\n",
              "                'suggestCharts', [key], {});\n",
              "          } catch (error) {\n",
              "            console.error('Error during call to suggestCharts:', error);\n",
              "          }\n",
              "          quickchartButtonEl.classList.remove('colab-df-spinner');\n",
              "          quickchartButtonEl.classList.add('colab-df-quickchart-complete');\n",
              "        }\n",
              "        (() => {\n",
              "          let quickchartButtonEl =\n",
              "            document.querySelector('#df-24f879f1-45cc-40a3-a2dc-219e0e768030 button');\n",
              "          quickchartButtonEl.style.display =\n",
              "            google.colab.kernel.accessAllowed ? 'block' : 'none';\n",
              "        })();\n",
              "      </script>\n",
              "    </div>\n",
              "    </div>\n",
              "  </div>\n"
            ],
            "application/vnd.google.colaboratory.intrinsic+json": {
              "type": "dataframe",
              "variable_name": "test_df",
              "summary": "{\n  \"name\": \"test_df\",\n  \"rows\": 5,\n  \"fields\": [\n    {\n      \"column\": \"index_in_source\",\n      \"properties\": {\n        \"dtype\": \"number\",\n        \"std\": 5182,\n        \"min\": 255,\n        \"max\": 11007,\n        \"num_unique_values\": 5,\n        \"samples\": [\n          8416,\n          255,\n          9650\n        ],\n        \"semantic_type\": \"\",\n        \"description\": \"\"\n      }\n    },\n    {\n      \"column\": \"name\",\n      \"properties\": {\n        \"dtype\": \"string\",\n        \"num_unique_values\": 5,\n        \"samples\": [\n          \"\\u041d\\u0430\\u0431\\u043e\\u0440 \\u043a\\u0430\\u0448\\u043f\\u043e \\u0434\\u0435\\u0440\\u0435\\u0432\\u044f\\u043d\\u043d\\u044b\\u0445 3 \\u0432 1 (30.5\\u00d718.5\\u00d735; 25.5\\u00d715\\u00d730; 20\\u00d712\\u00d723) \\\"\\u0410\\u0440\\u043e\\u043c\\\", \\u0441\\u0435\\u0440\\u043e-\\u0433\\u043e\\u043b\\u0443\\u0431\\u043e\\u0439\",\n          \"\\u041f\\u0435\\u0440\\u0435\\u0432\\u043e\\u0434\\u043d\\u044b\\u0435 \\u0442\\u0430\\u0442\\u0443\\u0438\\u0440\\u043e\\u0432\\u043a\\u0438 \\u0434\\u0435\\u0442\\u0441\\u043a\\u0438\\u0435 \\u00ab\\u0413\\u0435\\u0440\\u043e\\u0438\\u00bb, 2 \\u043b\\u0438\\u0441\\u0442\\u0430, \\u0442\\u0430\\u0442\\u0443 \\u2014 16 \\u0448\\u0442.\",\n          \"\\u041f\\u043e\\u0434\\u0432\\u0435\\u0441\\u043a\\u0430 \\u00ab\\u0426\\u0432\\u0435\\u0442\\u043e\\u043a\\u00bb (\\u043d\\u0430\\u0431\\u043e\\u0440 10 \\u0448\\u0442.), \\u0446\\u0432\\u0435\\u0442 \\u0436\\u0451\\u043b\\u0442\\u044b\\u0439 \\u0432 \\u0437\\u043e\\u043b\\u043e\\u0442\\u0435\"\n        ],\n        \"semantic_type\": \"\",\n        \"description\": \"\"\n      }\n    }\n  ]\n}"
            }
          },
          "metadata": {},
          "execution_count": 9
        }
      ]
    },
    {
      "cell_type": "markdown",
      "source": [
        "### Сгенерированные начальные запросы для каждого товара."
      ],
      "metadata": {
        "id": "ibNHUqvy9DqJ"
      }
    },
    {
      "cell_type": "code",
      "execution_count": 10,
      "metadata": {
        "id": "OmI5404_HRQ2"
      },
      "outputs": [],
      "source": [
        "start_queries = [\n",
        "    \"Я хочу красиво украсить подарок для близкого человека.\",\n",
        "    \"Я хочу стильно разместить свои цветы на подоконнике.\",\n",
        "    \"Я хочу сделать яркие и оригинальные серьги.\",\n",
        "    \"Я хочу создать смешной браслет для своей подруги.\",\n",
        "    \"Я хочу украсить ребенка временными татуировками к празднику.\"\n",
        "]"
      ]
    },
    {
      "cell_type": "markdown",
      "source": [
        "### Сгенерированные товары."
      ],
      "metadata": {
        "id": "iwbD9aps9P0i"
      }
    },
    {
      "cell_type": "code",
      "source": [
        "chat_suggestions = [\n",
        "    [\n",
        "        \"Ленты для декора и подарков, розовые\",\n",
        "        \"Декоративные сердечки, набор 200 шт., 1 см, цвет красный\"\n",
        "    ],\n",
        "\n",
        "    [\n",
        "        \"Подставка из гипса. Набор для создания поддона с поталью «Шестиугольник»\",\n",
        "        \"Флорариум «Баночка» с веревкой, 8x8x9 см, стекло, прозрачный\",\n",
        "        \"Ваза объемом 250 мл, прозрачная\",\n",
        "        \"Ваза объемом 250 мл, матовая\"\n",
        "    ],\n",
        "    [\n",
        "        \"Набор для бисероплетения 'Цветочная фантазия'\",\n",
        "        \"Блёстки для декора разноцветные\"\n",
        "    ]\n",
        "    [\n",
        "        \"Набор для творчества «Создай свой стильный браслет» (универсальный размер)\",\n",
        "        \"Украшение для девочек своими руками «Фруктовый браслет» (белый цвет)\"\n",
        "    ],\n",
        "    [\n",
        "        \"Переводные татуировки детские 'Мультики', тату – 18 шт., 2 листа\",\n",
        "        \"Временные переводные тату для детей 'Микки Маус', тату – 14 шт\"\n",
        "    ]\n",
        "\n",
        "]"
      ],
      "metadata": {
        "id": "JTIhxbKsIfOB"
      },
      "execution_count": 11,
      "outputs": []
    },
    {
      "cell_type": "markdown",
      "source": [
        "### Диалоги."
      ],
      "metadata": {
        "id": "-C17NkK_-YU2"
      }
    },
    {
      "cell_type": "markdown",
      "source": [
        "#### Начальное сообщение."
      ],
      "metadata": {
        "id": "z_vJ7Wiz-3Q9"
      }
    },
    {
      "cell_type": "markdown",
      "source": [
        "**User**: /start\n",
        "\n",
        "**Bot**: Привет, я ИИ ассистент, помогающий в выборе предметов для хобби. Напиши, какая область тебя интересует, и я подберу что-нибудь специально для тебя.\n",
        "Чтобы очистить контекст и начать выбор нового товара, пиши команду /clear_context."
      ],
      "metadata": {
        "id": "uQH_MfGC-reT"
      }
    },
    {
      "cell_type": "markdown",
      "source": [
        "#### Диалог 1"
      ],
      "metadata": {
        "id": "C4ABFBe7_C0a"
      }
    },
    {
      "cell_type": "markdown",
      "source": [
        "**User:** Я хочу красиво украсить подарок для близкого человека\n",
        "\n",
        "***Bot***: Так как у нас всего одно ваше сообщение, давайте уточним детали:\n",
        "Какие элементы вы хотели бы использовать для украшения подарка? Какие цвета предпочитает близкий человек? Есть ли особые пожелания по стилю оформления?\n",
        "Это поможет подобрать идеальный вариант украшения.\n",
        "\n",
        "**User:** Близкий человек предпочитает розовый цвет, по оформлению особых пожеланий нет. Хотелось бы использовать неброские, сдержанные элементы\n",
        "\n",
        "***Bot***: Какие элементы декора вы предпочитаете для розового цвета? Хотите добавить нежные цветы, ленты или бусины?\n",
        "\n",
        "**User:** Ленты подходят\n",
        "\n",
        "***Bot***: Учитывая ваши предпочтения, мне кажется, что вам подойдут следующие товары для создания нежного и романтичного образа подарка:\n",
        "\n",
        "Название товара: Декоративные сердечки, набор 200 шт., 1 см, цвет красный ([Ссылка на товар](https://www.sima-land.ru/1195938/serdechki-dekorativnye-nabor-200-sht-1-cm-cvet-krasnyy/))\n",
        "\n",
        "Этот элемент добавит теплоты и любви к подарку без излишней яркости. Розовый фон будет гармонично сочетаться с красными сердцами, создавая привлекательный контраст.\n",
        "\n",
        "Дополнительно можно рассмотреть использование:\n",
        "\n",
        "Название товара: Ленты для декора и подарков, розовые ([Ссылка на товар](https://www.sima-land.ru/9567784/лента-для-декора-и-подарков-розовый-2-см-45-м/)), особенно атласные варианты.\n",
        "Они добавят гладкости и изящества упаковке.\n",
        "Эти элементы помогут создать уютный и романтический образ, который понравится вашему близкому человеку."
      ],
      "metadata": {
        "id": "m7O8PHC7-jOe"
      }
    },
    {
      "cell_type": "markdown",
      "source": [
        "#### Диалог 2"
      ],
      "metadata": {
        "id": "qxyICJJFACEk"
      }
    },
    {
      "cell_type": "markdown",
      "source": [
        "**User**: Я хочу стильно разместить свои цветы на подоконнике\n",
        "\n",
        "***Bot***: Так как у нас было всего одно сообщение от вас, уточню ваши интересы: хотите ли вы создать стильный цветочный уголок на подоконнике, который будет соответствовать определенному стилю интерьера? Или есть другие пожелания относительно внешнего вида этого уголка?\n",
        "\n",
        "**User**: Стильный цветочный уголок звучит здорово\n",
        "\n",
        "***Bot***: Какие цветы вы планируете разместить и какой общий стиль оформления предпочитаете?\n",
        "\n",
        "**User**: Предложи, какие стили есть\n",
        "\n",
        "***Bot***: Какой стиль оформления вы предпочитаете для своего цветочного уголка: современный минимализм, скандинавский уют, бохо-шик или традиционный кантри?\n",
        "Современный минимализм или бохо-шик\n",
        "Какие именно растения вы собираетесь размещать на подоконнике? Это будут суккуленты, тропические цветы или что-то другое? И какого размера предполагается ваш цветочный уголок?\n",
        "\n",
        "**User**: Цветочный уголок будет небольшого размера. Пока не знаю, какие цветы буду сажать там\n",
        "\n",
        "***Bot***: Какие виды растений вы обычно выращиваете? Предпочитаете ли вы экзотические тропические цветы, неприхотливые суккуленты или классические комнатные растения?\n",
        "\n",
        "**User**: Я пока что не сажал цветы\n",
        "\n",
        "***Bot***: Какие цветы вы предпочитаете: яркие тропические, нежные суккуленты или классические комнатные растения? Какой размер цветочной композиции вы представляете?\n",
        "\n",
        "**User**: Классические комнатные растения, небольшой размер композиции\n",
        "\n",
        "***Bot***: Какие виды классических комнатных растений вы предпочитаете? Их размеры должны быть небольшими, поэтому идеально подходят миниатюрные фикусы, пальмы, папоротники, сенполии (узамбарские фиалки) или суккуленты вроде эхеверии и хавортии. Какой стиль оформления вы бы предпочли для такого цветочного уголка: современный минимализм (простые линии, нейтральные оттенки) или бохо-шик (яркие акценты, плетеные элементы)?\n",
        "\n",
        "**User**: Предпочту бохо-шик. Из растений - миниатюрные фикусы\n",
        "\n",
        "***Bot***: Какие аксессуары помогут воплотить стиль бохо-шик при размещении миниатюрных фикусов на небольшом подоконнике?\n",
        "\n",
        "**User**: Таков мой вопрос\n",
        "\n",
        "***Bot***: Ваш выбор – стиль бохо-шик для размещения миниатюрных фикусов на маленьком подоконнике. Для реализации этой идеи можно использовать следующие товары:\n",
        "\n",
        "1. Подставка из гипса. Набор для создания поддона с поталью «Шестиугольник»:  https://www.sima-land.ru/10071459/podstavka-iz-gipsa-nabor-dlya-sozdaniya-poddona-с-поталью-шестиугольник/\n",
        "Этот элемент добавит текстуру и интерес к вашему уголку благодаря использованию натуральной потали.\n",
        "\n",
        "2. Флорариум «Баночка» с веревкой, 8x8x9 см, стекло, прозрачный: https://www.sima-land.ru/4642779/florarium-баночка-с-веревой-8x8x9-см-стекло-прозрачный/\n",
        "Такой флорариум станет ярким акцентом, сочетаясь со стилем бохо-шик. Используйте его для нескольких мини-фикусов.\n",
        "\n",
        "3. Вазы разных стилей и размеров: две стеклянные вазы объемом 250 мл (одна прозрачная, другая матовая), например:\n",
        "   - Прозрачная ваза: https://www.sima-land.ru/9613344/vaza-для-цветов-стекол-о-250-мл/\n",
        "   - Матовая ваза: https://www.sima-land.ru/9613345/ваза-для-цветов-стекл-о-250-мл/\n",
        "Они создадут разнообразие форм и текстур, характерных для бохо-шика.\n",
        "\n",
        "Эти товары помогут создать уютный и колоритный уголок природы на вашем подоконнике, соответствующий выбранному стилю. Как вам такой план? Хотите что-нибудь изменить или добавить?"
      ],
      "metadata": {
        "id": "DP_C1mtlAFWP"
      }
    },
    {
      "cell_type": "markdown",
      "source": [
        "#### Диалог 3"
      ],
      "metadata": {
        "id": "oWeIITCBDP5S"
      }
    },
    {
      "cell_type": "markdown",
      "source": [
        "**User**: Я хочу сделать яркие и оригинальные серьги.\n",
        "\n",
        "***Bot***: Судя по вашему сообщению, вы хотите создать яркие и оригинальные серьги с использованием бисера. Мне интересно узнать следующие детали:\n",
        "\n",
        "1. Какой стиль серёг вы предпочитаете? Например, минимализм, бохо, винтаж, геометрические формы или цветочные мотивы?\n",
        "2. Какие именно материалы вас интересуют? Возможно, натуральные камни, кристаллы, металлические элементы или дополнительные декоративные детали?\n",
        "\n",
        "**User**: Предпочитаю цветочные мотивы, из материалов - декор\n",
        "\n",
        "***Bot***: Какие цветовые сочетания вы предпочитаете для своих серёжек? Особенно интересует выбор между яркими неоновыми цветами и более приглушёнными пастельными оттенками.\n",
        "\n",
        "**User**: Интересуют больше яркие цвета\n",
        "\n",
        "***Bot***: Учитывая ваши предпочтения, я предлагаю следующий набор товаров, который поможет вам создать яркие и оригинальные серьги с цветочными мотивами:\n",
        "\n",
        "Набор для бисероплетения \"Цветочная фантазия\" – включает разнообразные бусинки, нити и схемы плетения. Ссылка: https://www.simaland.ru/7775513/nabor-dlya-biseropleteniya-tsvetochnaya-fantaziya/\n",
        "\n",
        "Блёстки для декора разноцветные – добавят яркость и блеск вашим серьгам. Ссылка: https://www.simaland.ru/9703274/bleshtki-dlya-dekora-raznoobraznie-cvet/"
      ],
      "metadata": {
        "id": "QSCwDEAXDSAa"
      }
    },
    {
      "cell_type": "markdown",
      "source": [
        "#### Диалог 4"
      ],
      "metadata": {
        "id": "Obmr8r1eBjnD"
      }
    },
    {
      "cell_type": "markdown",
      "source": [
        "**User**: Я хочу создать смешной браслет для своей подруги\n",
        "\n",
        "***Bot***: Какие цвета любит ваша подруга? Какой стиль браслета она предпочитает – классический, современный, романтический или яркий детский?\n",
        "\n",
        "**User**: Яркий детский, любит белый цвет\n",
        "\n",
        "***Bot***: Какие элементы вы хотите добавить к браслету, например, сердечки, звёздочки или забавные фигурки животных? Также интересует размер запястья вашей подруги, чтобы подобрать оптимальную длину браслета.\n",
        "\n",
        "**User**: Я не знаю размер запястья подруги, нужен универсальный размер. Хотелось бы добавить к браслету что-нибудь смешное\n",
        "\n",
        "***Bot***: Какие смешные элементы можно использовать при создании детского браслета? Например, фигурки любимых героев мультфильмов, яркие звёзды, улыбающиеся мордочки животных или забавный текст типа \"Я люблю обниматься\" или \"Самая весёлая девочка\"?\n",
        "\n",
        "**User**: Можно попробовать смайлики\n",
        "\n",
        "***Bot***: Учитывая ваш запрос на создание яркого детского браслета белого цвета со смайликами и универсального размера, мне кажется, что вам подойдут следующие варианты:\n",
        "\n",
        "Набор для творчества «Создай свой стильный браслет» (универсальный размер)  \n",
        "Этот набор включает разноцветные бусины и специальные крепления для создания уникального дизайна. Вы сможете легко добавить милые смайлики среди других элементов.  \n",
        "Ссылка: https://www.sima-land.ru/7450203/ukrasheniya-dlya-devochek-svoimi-rukami-stilnyy-braslet-nabor-busin-dlya-tvorchestva-6-plus-miks/\n",
        "\n",
        "Украшение для девочек своими руками «Фруктовый браслет» (белый цвет)  \n",
        "Данный набор подходит идеально под ваши требования: яркие фрукты сочетаются с белым цветом, а также позволят разместить смайлики без проблем.  \n",
        "Ссылка: https://www.sima-land.ru/9383065/ukrasheniya-dlya-devochek-svoimi-rukami-sozday-braslet-s-sharmami-fruktiki-nabor-busin-dlya-tvorchestva/\n",
        "\n",
        "Эти два варианта подходят лучше всего благодаря универсальному размеру, яркому дизайну и возможности добавления забавных смайликов."
      ],
      "metadata": {
        "id": "gbxBe16rBla8"
      }
    },
    {
      "cell_type": "markdown",
      "source": [
        "#### Диалог 5"
      ],
      "metadata": {
        "id": "RJNnaJ9FCVJt"
      }
    },
    {
      "cell_type": "markdown",
      "source": [
        "**User**: Я хочу украсить ребенка временными татуировками к празднику\n",
        "\n",
        "***Bot***: Чтобы лучше подобрать украшение для вашего ребенка, мне нужно знать следующее:\n",
        "Какие стили временных татуировок вы предпочитаете? Например, мультяшные персонажи, животные или тематические рисунки.\n",
        "\n",
        "**User**: С мультяшными героями\n",
        "\n",
        "***Bot***: Какой стиль мультфильма предпочитает ваш ребенок? Это герои из мультфильмов Disney, Pixar, Cartoon Network или других анимационных студий? Какие именно персонажи ему нравятся?\n",
        "\n",
        "**User**: Непринципиально, какая студия. Любые герои\n",
        "\n",
        "***Bot***: Какие цвета предпочитает ребенок и есть ли у него любимые мультгерои? Это поможет определить идеальный вариант временной татуировки.\n",
        "\n",
        "**User**: Ребёнку нравятся почти все мультгерои в мире\n",
        "\n",
        "***Bot***: Учитывая, что ребенку нравятся практически любые мультгерои, предлагаю следующие варианты временных татуировок:\n",
        "\n",
        "1) Название товара: Переводные татуировки детские \"Мультики\", тату – 18 шт., 2 листа. Ссылка на товар: https://www.wildberries.ru/catalog/18581188/detail.aspx\n",
        "\n",
        "2) Название товара: Временные переводные тату для детей \"Микки Маус\", тату – 14 шт. Ссылка на товар: https://www.ozon.ru/product/vremennye-perevodnye-tatu-dlya-detey-miki-maus-tatu--14-sht-188468784/\n",
        "\n",
        "Эти наборы включают разнообразные мультяшные образы, которые понравятся любому ребенку. Можно также предложить комбинированный набор, включающий различные популярные серии мультфильмов.\n",
        "\n",
        "Вопросы для уточнения предпочтений:\n",
        "1) Есть ли среди героев, которых любит ребёнок, определенные персонажи или группы персонажей (Дисней, Marvel, DC)?\n",
        "2) Какой цветовой гамме отдаёт предпочтение малыш? Есть ли яркие цвета, которые его особенно привлекают?"
      ],
      "metadata": {
        "id": "6Ah_0JNrCYI2"
      }
    }
  ]
}